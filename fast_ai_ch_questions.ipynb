{
  "nbformat": 4,
  "nbformat_minor": 0,
  "metadata": {
    "colab": {
      "name": "fast.ai_ch_questions.ipynb",
      "provenance": [],
      "authorship_tag": "ABX9TyMhngwauX3eDglBme7pmqSR",
      "include_colab_link": true
    },
    "kernelspec": {
      "name": "python3",
      "display_name": "Python 3"
    }
  },
  "cells": [
    {
      "cell_type": "markdown",
      "metadata": {
        "id": "view-in-github",
        "colab_type": "text"
      },
      "source": [
        "<a href=\"https://colab.research.google.com/github/cmannnn/practical_deep_learning_for_coders/blob/main/fast_ai_ch_questions.ipynb\" target=\"_parent\"><img src=\"https://colab.research.google.com/assets/colab-badge.svg\" alt=\"Open In Colab\"/></a>"
      ]
    },
    {
      "cell_type": "markdown",
      "metadata": {
        "id": "LKrnKQc92ktr"
      },
      "source": [
        "#Ch 2 Questions"
      ]
    },
    {
      "cell_type": "markdown",
      "metadata": {
        "id": "qRW82HXZsaQc"
      },
      "source": [
        "-   Provide an example of where the bear classification model might work poorly in production, due to structural or style differences in the training data.\n",
        "\n",
        "If the quality of the data (resolution) isn't great , the model could be less effective. The model is only as good as the data you provide it.\n"
      ]
    },
    {
      "cell_type": "markdown",
      "metadata": {
        "id": "laKe_ZmYupUT"
      },
      "source": [
        "- Where do text models currently have a major deficiency?\n",
        "\n",
        "They are good at classification and generating realistic and comprehensive sentences (replies to social media, imitiating authors style, etc.)  but not great at generating correct responses (industry specifc, technical, etc.)"
      ]
    },
    {
      "cell_type": "markdown",
      "metadata": {
        "id": "peEvoLTSvrsz"
      },
      "source": [
        "- What are possible negative societal implications of text generation models?\n",
        "\n",
        "Possible negative implications could be generating hate speech on social media platforms, or if correct sounding information is provided that actually isn't accurate could be harmful for spreading fake news.\n"
      ]
    },
    {
      "cell_type": "markdown",
      "metadata": {
        "id": "Vh6_3snWwGQN"
      },
      "source": [
        "- In situations where a model might make mistakes, and those mistakes could be harmful, what is a good alternative to automating a process?\n",
        "\n",
        "Incorporating the model into a system with human user interaction to simplify work, reduce workload, etc. "
      ]
    },
    {
      "cell_type": "markdown",
      "metadata": {
        "id": "PAud7POzxPbi"
      },
      "source": [
        "- What kind of tabular data is deep learning particularly good at?\n",
        "\n",
        "Good at increasing the variety of data that can be used and columns with high number of discrete choices."
      ]
    },
    {
      "cell_type": "markdown",
      "metadata": {
        "id": "lLb8HW5myMGJ"
      },
      "source": [
        "- What's a key downside of directly using a deep learning model for recommendation systems?\n",
        "\n",
        "Deep learning models generally take longer to train than random forests or gradient boosting machines. "
      ]
    },
    {
      "cell_type": "markdown",
      "metadata": {
        "id": "fWh3dWZiydgC"
      },
      "source": [
        "- What are the steps of the Drivetrain Approach?\n",
        "\n",
        "Defining the objective -> Levers (what inputs can we control?) -> Data (what data can we collect?) -> Models (how the levers influence the objective)"
      ]
    },
    {
      "cell_type": "markdown",
      "metadata": {
        "id": "OWcGrIVlzVpO"
      },
      "source": [
        "- How do the steps of the Drivetrain Approach map to a recommendation system?\n",
        "\n",
        "Objective: to drive additional sales by suprising and delighting the cusomter with recommendations of items they would not have purchased without the recommendation.\n",
        "\n",
        "Lever: the ranking of the recommendations.\n",
        "\n",
        "Data: new data must be collected to generate recommendations that will cause new sales\n",
        "\n",
        "Models: could build 2 models for purchase probabilities, conditional on seeing or not seeing a recommendation"
      ]
    },
    {
      "cell_type": "markdown",
      "metadata": {
        "id": "JCrt_ewM0Uyy"
      },
      "source": [
        "- Create an image recognition model using data you curate, and deploy it on the web.\n",
        "\n",
        "Deployed! (see Github)"
      ]
    },
    {
      "cell_type": "markdown",
      "metadata": {
        "id": "KFqeYKr12fi2"
      },
      "source": [
        "- What is DataLoaders?\n",
        "\n",
        "DataLoaders is a simple class that allows you to access your data through train and valid sets created by the class."
      ]
    },
    {
      "cell_type": "markdown",
      "metadata": {
        "id": "u9ut5xfw4XDA"
      },
      "source": [
        "- What four things do we need to tell fastai to create DataLoaders?\n",
        "\n",
        "The DataLoaders class needs to know: \n",
        "- the type of data that is being passed\n",
        "- how to get the data\n",
        "- how to label the data\n",
        "- how to create the validation set"
      ]
    },
    {
      "cell_type": "markdown",
      "metadata": {
        "id": "yYbH2lU34XNm"
      },
      "source": [
        "- What does the splitter parameter to DataBlock do?\n",
        "\n",
        "How to split the data, how much to data to leave out for the validation set, sets the seed\n",
        "\n"
      ]
    },
    {
      "cell_type": "markdown",
      "metadata": {
        "id": "un2QKp5z60_k"
      },
      "source": [
        "13. How do we ensure a random split always gives the same validation set?\n",
        "\n",
        "By setting the seed."
      ]
    },
    {
      "cell_type": "markdown",
      "metadata": {
        "id": "4YPfrbYL61QB"
      },
      "source": [
        "- What letters are often used to signify the independent and dependent variables?\n",
        "\n",
        "x and y"
      ]
    },
    {
      "cell_type": "markdown",
      "metadata": {
        "id": "U2eLmRC461Zr"
      },
      "source": [
        "- What's the difference between the crop, pad, and squish resize approaches? When might you choose one over the others?\n",
        "\n",
        "The crop resize approach slices the image to fit the desired size. The pad approach adds black pixels to the images that are smaller than the desired size which will allows them to fit the desired size. "
      ]
    },
    {
      "cell_type": "markdown",
      "metadata": {
        "id": "T9lnnThD61kc"
      },
      "source": [
        "- What is data augmentation? Why is it needed?\n",
        "\n",
        "Data augumentation is when a image is modified without losing the \"meaning\" of the image in order for the model to better learn about different features. It is needed if the amount of data is small and the model needs extra inputs.  "
      ]
    },
    {
      "cell_type": "markdown",
      "metadata": {
        "id": "sXZchsB6-7qb"
      },
      "source": [
        "- What is the difference between item_tfms and batch_tfms?\n",
        "\n",
        "item_tfms tells the model to add a transformation on one image at a time. batch_tfms tells the model to add a transformation to all of the images at once."
      ]
    },
    {
      "cell_type": "markdown",
      "metadata": {
        "id": "4iUkDPdr-728"
      },
      "source": [
        "- What is a confusion matrix?\n",
        "\n",
        "A confusion matrix is a visualization of the number of correct and incorrectly labeled images. Numbers on the diagonal are correct labels, all numbers in other places are incorrect."
      ]
    },
    {
      "cell_type": "markdown",
      "metadata": {
        "id": "D8F3p794-76n"
      },
      "source": [
        "- What does export save?\n",
        "\n",
        "Export saves the model for future use. It can then be used right away to predict other images instead of having to build and train a whole new model."
      ]
    },
    {
      "cell_type": "markdown",
      "metadata": {
        "id": "E47bhnT4-8AK"
      },
      "source": [
        "- What is it called when we use a model for getting predictions, instead of training?\n",
        "\n",
        "An inference is when a model is getting predictions rather than just training."
      ]
    },
    {
      "cell_type": "markdown",
      "metadata": {
        "id": "y3kM3cHx_6fn"
      },
      "source": [
        "- What are IPython widgets?\n",
        "\n",
        "iPython widgets are GUI components (buttons, calendars, switches, etc.) that can be used in a Colab notebook to add funtionality to your project."
      ]
    },
    {
      "cell_type": "markdown",
      "metadata": {
        "id": "pgEL8m0u_6l2"
      },
      "source": [
        "- When might you want to use CPU for deployment? When might GPU be better?\n",
        "\n",
        "You might want to use a CPU for deployment when there is not a lot of parallel processing that needs to take place. Image recognition such as the bear classifier is an example of image recognition that wouldn't need a GPU. A GPU would be better for live feed recognition where continuous of frames must be ran at the same time."
      ]
    },
    {
      "cell_type": "markdown",
      "metadata": {
        "id": "VBZ8_MUX_6sc"
      },
      "source": [
        "- What are the downsides of deploying your app to a server, instead of to a client (or edge) device such as a phone or PC?\n",
        "\n",
        "The dowsides of deploying an app to a server are that it will require a network connection and some latency issues if there are many calls to the model. There could also be privacy issues if the server is not local."
      ]
    },
    {
      "cell_type": "markdown",
      "metadata": {
        "id": "2z3r-b5O_6yh"
      },
      "source": [
        "- What are three examples of problems that could occur when rolling out a bear warning system in practice?\n",
        "\n",
        "Night time images, blurry images, images of strange bear angles, images where bears are not fully in sight of the camera."
      ]
    },
    {
      "cell_type": "markdown",
      "metadata": {
        "id": "v-7mwJ7H_64D"
      },
      "source": [
        "- What is \"out-of-domain data\"?\n",
        "\n",
        "Data that a model has not seen in training that it is being asked to predict."
      ]
    },
    {
      "cell_type": "markdown",
      "metadata": {
        "id": "7gOsQLoiAK_r"
      },
      "source": [
        "- What is \"domain shift\"?\n",
        "\n",
        "Where data the model is predicting on, changes over time."
      ]
    },
    {
      "cell_type": "markdown",
      "metadata": {
        "id": "3YmTHJmEALIk"
      },
      "source": [
        "- What are the three steps in the deployment process?\n",
        "\n",
        "-Manual process: running the model in parallel, humans checking all predictions.\n",
        "\n",
        "-Limited scope deployment: careful human supervision, time/geography limited.\n",
        "\n",
        "-Gradual expansion: good reporting system, consider situations where model could go wrong."
      ]
    },
    {
      "cell_type": "markdown",
      "metadata": {
        "id": "dUBSx29ExeiM"
      },
      "source": [
        "#Ch 3 Questions"
      ]
    },
    {
      "cell_type": "markdown",
      "metadata": {
        "id": "WKmk5n40tU0k"
      },
      "source": [
        "- Does ethics provide a list of \"right answers\"?\n",
        "\n",
        "No, ethcis does not provide a list of \"right answers\". Ethics is a very complicated issue and can be different in every case. "
      ]
    },
    {
      "cell_type": "markdown",
      "metadata": {
        "id": "wx_o0e9itYf6"
      },
      "source": [
        "- How can working with people of different backgrounds help when considering ethical questions?\n",
        "\n",
        "Working with people of different backgrounds can help when considering ethical questions because they may notice or point something out that you may have missed. This way, the other groups of people are considered."
      ]
    },
    {
      "cell_type": "markdown",
      "metadata": {
        "id": "oVsx4_oLtYWQ"
      },
      "source": [
        "- What was the role of IBM in Nazi Germany? Why did the company participate as it did? Why did the workers participate?\n",
        "\n",
        "IBM helped keep records on Jews that are and would be executed. IBM as a company participated due to increasing profits. Individual workers participated because they were just following orders and didn't seem like it was blood on their hands."
      ]
    },
    {
      "cell_type": "markdown",
      "metadata": {
        "id": "xsRKY1QntYO8"
      },
      "source": [
        "- What was the role of the first person jailed in the Volkswagen diesel scandal?\n",
        "\n",
        "The first person jailed for being involded in the VOlkswagen diesel scandal was engineer James Liang."
      ]
    },
    {
      "cell_type": "markdown",
      "metadata": {
        "id": "0jerLBbOtYED"
      },
      "source": [
        "- What was the problem with a database of suspected gang members maintained by California law enforcement officials?\n",
        "\n",
        "There was no process in place to remove suspected gang members. The list contained many incorrectly labeled gang members including babies. "
      ]
    },
    {
      "cell_type": "markdown",
      "metadata": {
        "id": "YFU6Ozi1tX1H"
      },
      "source": [
        "- Why did YouTube's recommendation algorithm recommend videos of partially clothed children to pedophiles, even though no employee at Google had programmed this feature?\n",
        "\n",
        "YouTube's recommendation algorithm recommended partially clothed children to pedophiles due to feedback loops. Conspiracy videos that users were looking up were also being recommended other videos that conspiracy believers watched which was partially clothed children."
      ]
    },
    {
      "cell_type": "markdown",
      "metadata": {
        "id": "i4XAocrsyZnf"
      },
      "source": [
        "- What are the problems with the centrality of metrics?\n",
        "\n",
        "When there is a centrality of a metric, the recommendation system will do everything in its power to maximize that number. If not correctly coded, the system may not consider ethical problems and the system could create unintended problems."
      ]
    },
    {
      "cell_type": "markdown",
      "metadata": {
        "id": "Fd-m46aCyZib"
      },
      "source": [
        "- Why did Meetup.com not include gender in its recommendation system for tech meetups?\n",
        "\n",
        "Meetup.com did not include gender in its recommendation system for tech meetups because the large majority of the attendees were male and therefore, more invites were sent to males creating a dangerous reinforcement loop where less and less women were getting notified about the meetups."
      ]
    },
    {
      "cell_type": "markdown",
      "metadata": {
        "id": "3C1CNN8UyZc4"
      },
      "source": [
        "- What are the six types of bias in machine learning, according to Suresh and Guttag?\n",
        "\n",
        "The six types of bias in machine learning are:\n",
        "- Historical bias\n",
        "- Representation bias\n",
        "- Measurenemtn bias\n",
        "- Evaluation bias\n",
        "- Aggregation bias\n",
        "- Development bias"
      ]
    },
    {
      "cell_type": "markdown",
      "metadata": {
        "id": "I_Lprt3-yZYc"
      },
      "source": [
        "- Give two examples of historical race bias in the US.\n",
        "Where are most images in ImageNet from?\n",
        "\n",
        "Ex 1: Black people being given a starting price tag on a used car that is $700 higher.\n",
        "\n",
        "Ex 2: An all white jury is 16% higher to convict a black defendant but, if there is one black person on the jury the conviction rates are the same for a white or black defendant.\n",
        "\n",
        "The majority of ImageNet images are from the US or other western countries."
      ]
    },
    {
      "cell_type": "markdown",
      "metadata": {
        "id": "4-i02iFUyZPO"
      },
      "source": [
        "- In the paper \"Does Machine Learning Automate Moral Hazard and Error\" why is sinusitis found to be predictive of a stroke?\n",
        "\n",
        "Sinusitis was found to be a predictive measure of stroke because the model was not measuring just who was increased risk for stroke but also the types of people that actually go to the doctor. This second point has discrimination bias and would effect who might be determined at risk for a stroke."
      ]
    },
    {
      "cell_type": "markdown",
      "metadata": {
        "id": "mHuj7-0Qy9Sl"
      },
      "source": [
        "- What is representation bias?\n",
        "\n",
        "Representation bias is when a sub-section of a population is under represented in a data set to where the model picks up on this trend and includes it in it's system."
      ]
    },
    {
      "cell_type": "markdown",
      "metadata": {
        "id": "HzPPTAv9y9Kg"
      },
      "source": [
        "- How are machines and people different, in terms of their use for making decisions?\n",
        "\n",
        "Machines:\n",
        "- create feedback loops from a small bias in a data set.\n",
        "- amplify bias in a data set\n",
        "- usually don't have an appeals process in place\n",
        "\n",
        "People: \n",
        "- generalize that algorithms are more error-free than they really are\n",
        "- human bias can lead to larger bias in models"
      ]
    },
    {
      "cell_type": "markdown",
      "metadata": {
        "id": "V8ojWG98y9Gj"
      },
      "source": [
        "- Is disinformation the same as \"fake news\"?\n",
        "\n",
        "No, disinformation is different in that in some cases disinformation can include half truths while 'fake news' is usually just flat out fabricated."
      ]
    },
    {
      "cell_type": "markdown",
      "metadata": {
        "id": "N9-eQGmvy9CC"
      },
      "source": [
        "- Why is disinformation through auto-generated text a particularly significant issue?\n",
        "\n",
        "Disinformation created through auto-generated text is significant because it can be scaled very quickly and people are heavily influenced by people around us."
      ]
    },
    {
      "cell_type": "markdown",
      "metadata": {
        "id": "pFsldSFMy89i"
      },
      "source": [
        "- What are the five ethical lenses described by the Markkula Center?\n",
        "\n",
        "The five ethical lenses described by Markkula Center are:\n",
        " - rights approach: which option best respects the rights of all people who have a stake?\n",
        " - justice approach: which option treats people the most fair?\n",
        " - utilitiarian approach: which option will produce the most good and do the least amount of harm?\n",
        " - common good approach: which option best serves the community as a whole, and not just the creators?\n",
        " - virtue approach: which option leads me to act as the person who I want to be?\n"
      ]
    },
    {
      "cell_type": "markdown",
      "metadata": {
        "id": "WXzt_zfOxhY-"
      },
      "source": [
        "- Where is policy an appropriate tool for addressing data ethics issues?\n",
        "\n",
        "Policy is an appropriate tool for addressing data ethics in companies. If tech companies deploying these models hae a data ethics policy in place, they are much more likely to adhere to it and do less harm.\n"
      ]
    },
    {
      "cell_type": "markdown",
      "metadata": {
        "id": "rDLHixLaxtKk"
      },
      "source": [
        "# Ch 4 Questions"
      ]
    },
    {
      "cell_type": "markdown",
      "metadata": {
        "id": "ezDhvQdgDI6T"
      },
      "source": [
        "- How is a grayscale image represented on a computer? How about a color image?\n",
        "\n",
        "Grayscale images are represented by pixels in the range of 0-255. 0 being white and 255 being black. A color image is broken down to pixels and then into bits based on the color depth (how many bits make up each pixel)."
      ]
    },
    {
      "cell_type": "markdown",
      "metadata": {
        "id": "TtflacADDJCQ"
      },
      "source": [
        "- How are the files and folders in the MNIST_SAMPLE dataset structured? Why?\n",
        "\n",
        "The folders in the MNIST_SAMPLE dataset is split by training data and testing data as well as the corrosponding labels. Each training/testing folder has a subfolder for each of the numbers (1-9). It is structured this way to avoid confusion and allows for easy testing."
      ]
    },
    {
      "cell_type": "markdown",
      "metadata": {
        "id": "Bf7c9JoMDJLc"
      },
      "source": [
        "- Explain how the \"pixel similarity\" approach to classifying digits works.\n",
        "What is a list comprehension? Create one now that selects odd numbers from a list and doubles them.\n",
        "\n",
        "\"Pixel similarity\" is when a set of one number's pixels are averaged to create an \"ideal\" number. With this \"ideal\" number you can then test how similar a new image is to the \"ideal\". A list comprehension is a one line for loop."
      ]
    },
    {
      "cell_type": "code",
      "metadata": {
        "colab": {
          "base_uri": "https://localhost:8080/"
        },
        "id": "KCSmYvckIxiX",
        "outputId": "4cacdf96-47a5-4027-b03f-87cd00eb2cc6"
      },
      "source": [
        "# list comprehension that selects odd numbers from a list and doubles them\n",
        "\n",
        "a_list = [1, 2, 3, 4, 5, 6, 7, 8, 9, 10, 323, 197, 1038, 111, 29, 27]\n",
        "\n",
        "odd_list = [a for a in a_list if a % 2 != 0]\n",
        "new_list = [a * 2 for a in a_list if a % 2 != 0]\n",
        "\n",
        "print(a_list)\n",
        "print(odd_list)\n",
        "print(new_list)"
      ],
      "execution_count": null,
      "outputs": [
        {
          "output_type": "stream",
          "text": [
            "[1, 2, 3, 4, 5, 6, 7, 8, 9, 10, 323, 197, 1038, 111, 29, 27]\n",
            "[1, 3, 5, 7, 9, 323, 197, 111, 29, 27]\n",
            "[2, 6, 10, 14, 18, 646, 394, 222, 58, 54]\n"
          ],
          "name": "stdout"
        }
      ]
    },
    {
      "cell_type": "markdown",
      "metadata": {
        "id": "0W7AzK_tDJQz"
      },
      "source": [
        "- What is a \"rank-3 tensor\"?\n",
        "\n",
        "A rank-3 tensor is a 3D array. A rank-0 tensor is also known as a scaler, a rank-1 tensor is also known as a vector, and a rank-2 tensor is also known as a matrix."
      ]
    },
    {
      "cell_type": "markdown",
      "metadata": {
        "id": "-QLMhW_9DJXu"
      },
      "source": [
        "- What is the difference between tensor rank and shape? How do you get the rank from the shape?\n",
        "\n",
        "A tensors rank is it's number of dimensions where a tensors shape is it how many numbers make up the rows and columns. The length of a tensor is it's rank. "
      ]
    },
    {
      "cell_type": "markdown",
      "metadata": {
        "id": "SSRH2MAlKZbl"
      },
      "source": [
        "- What are RMSE and L1 norm?\n",
        "\n",
        "RMSE is the root mean squared error which is a method of measuring accuracy. L1 norm is the absolute value of differences. "
      ]
    },
    {
      "cell_type": "markdown",
      "metadata": {
        "id": "lPG7YtQtHKkr"
      },
      "source": [
        "- How can you apply a calculation on thousands of numbers at once, many thousands of times faster than a Python loop?\n",
        "\n",
        "You can apply a calculation on thousands of numbers at once by using matrix multiplication."
      ]
    },
    {
      "cell_type": "markdown",
      "metadata": {
        "id": "1rzJuJqfHKqx"
      },
      "source": [
        "- Create a 3×3 tensor or array containing the numbers from 1 to 9. Double it. Select the bottom-right four numbers."
      ]
    },
    {
      "cell_type": "code",
      "metadata": {
        "colab": {
          "base_uri": "https://localhost:8080/"
        },
        "id": "Yl8aXH39Tjru",
        "outputId": "b5e18e0d-7fab-4fb2-ea3d-146711e7eb36"
      },
      "source": [
        "# 3x3 array w/ numbers 1-9 \n",
        "import numpy as np\n",
        "data = [[1, 2, 3], [4, 5, 6], [7, 8, 9]]\n",
        "array = np.array(data)\n",
        "print(array)\n",
        "print (' ')\n",
        "\n",
        "# array * 2\n",
        "array_2 = array * 2\n",
        "print(array_2)\n",
        "print(' ')\n",
        "\n",
        "# selecting bottom right 4 numbers\n",
        "print(array_2[1:,1:])"
      ],
      "execution_count": 14,
      "outputs": [
        {
          "output_type": "stream",
          "text": [
            "[[1 2 3]\n",
            " [4 5 6]\n",
            " [7 8 9]]\n",
            " \n",
            "[[ 2  4  6]\n",
            " [ 8 10 12]\n",
            " [14 16 18]]\n",
            " \n",
            "[[10 12]\n",
            " [16 18]]\n"
          ],
          "name": "stdout"
        }
      ]
    },
    {
      "cell_type": "markdown",
      "metadata": {
        "id": "AP81NrdcHKwf"
      },
      "source": [
        "- What is broadcasting?\n",
        "\n",
        "Broadcasting occurs when performing calculations on tensors of different ranks, the tensor with the smaller rank will be expanded to fit the larger tensor."
      ]
    },
    {
      "cell_type": "markdown",
      "metadata": {
        "id": "5yQvMWfCHK2k"
      },
      "source": [
        "- Are metrics generally calculated using the training set, or the validation set? Why?\n",
        "\n",
        "In the validation set because this is data that the model has not seen yet and determines if the model is good at generalizing."
      ]
    },
    {
      "cell_type": "markdown",
      "metadata": {
        "id": "s11KEQ7CMVxm"
      },
      "source": [
        "- What is SGD?\n",
        "\n",
        "SGD stands for stochastic gradient descent that aims to improve its accuracy upon each iteration. The basic steps for SGD are: initialize weights -> predict -> calculate loss -> calculate gradient (how changing the weight would effect the loss) -> change weight -> repeat predict! -> stop"
      ]
    },
    {
      "cell_type": "markdown",
      "metadata": {
        "id": "rY3n8E6fMV5P"
      },
      "source": [
        "- Why does SGD use mini-batches?\n",
        "\n",
        "SGD uses mini-batches because calculating gradients over an entire dataset would be computationally heavy, and calculating over just one point wouldn't provide accurate gradients."
      ]
    },
    {
      "cell_type": "markdown",
      "metadata": {
        "id": "MNdeqHJ8MWBa"
      },
      "source": [
        "- What are the seven steps in SGD for machine learning?\n",
        "\n",
        "See above!"
      ]
    },
    {
      "cell_type": "markdown",
      "metadata": {
        "id": "Stsz0gymMWF6"
      },
      "source": [
        "- How do we initialize the weights in a model?\n",
        "\n",
        "Initializing weights can be done randomally or by using a pre-trained model."
      ]
    },
    {
      "cell_type": "markdown",
      "metadata": {
        "id": "9x7qDjLIMWY8"
      },
      "source": [
        "- What is \"loss\"?\n",
        "\n",
        "A value that represents how well or poor a model is doing."
      ]
    },
    {
      "cell_type": "markdown",
      "metadata": {
        "id": "TEJEyex6MWgF"
      },
      "source": [
        "- Why can't we always use a high learning rate?\n",
        "\n",
        "Using a high learning rate could cause your model's loss to be worse than a small learning rate, and also could cause bounce that will not actually improve the model."
      ]
    },
    {
      "cell_type": "markdown",
      "metadata": {
        "id": "piKSuXzdMXlg"
      },
      "source": [
        "- What is a \"gradient\"?\n",
        "\n",
        "The derivitive of the loss with respect to a models parameters."
      ]
    },
    {
      "cell_type": "markdown",
      "metadata": {
        "id": "KHapOZ3ZMXp0"
      },
      "source": [
        "- Do you need to know how to calculate gradients yourself?\n",
        "\n",
        "No, we have PyTorch for that."
      ]
    },
    {
      "cell_type": "markdown",
      "metadata": {
        "id": "Q5cX0jA9bbBu"
      },
      "source": [
        "- Why can't we use accuracy as a loss function?\n"
      ]
    },
    {
      "cell_type": "markdown",
      "metadata": {
        "id": "R_5FPt6UbbHO"
      },
      "source": [
        "- Draw the sigmoid function. What is special about its shape?"
      ]
    },
    {
      "cell_type": "markdown",
      "metadata": {
        "id": "78sbWt2-bbMf"
      },
      "source": [
        "- What is the difference between a loss function and a metric?"
      ]
    },
    {
      "cell_type": "markdown",
      "metadata": {
        "id": "KC0jt766bbSp"
      },
      "source": [
        "- What is the function to calculate new weights using a learning rate?\n"
      ]
    },
    {
      "cell_type": "markdown",
      "metadata": {
        "id": "HmHVYu8BbbaX"
      },
      "source": [
        "- What does the DataLoader class do?"
      ]
    },
    {
      "cell_type": "markdown",
      "metadata": {
        "id": "gL9__jlSbb7U"
      },
      "source": [
        "- Write pseudocode showing the basic steps taken in each epoch for SGD.\n",
        "Create a function that, if passed two arguments \\[1,2,3,4]\\ and 'abcd', returns \\[(1, 'a'), (2, 'b'), (3, 'c'), (4, 'd')]\\. What is special about that output data structure?"
      ]
    },
    {
      "cell_type": "markdown",
      "metadata": {
        "id": "EzbCBFqdbwTN"
      },
      "source": [
        "- What does view do in PyTorch?"
      ]
    },
    {
      "cell_type": "markdown",
      "metadata": {
        "id": "R5DfnGGnbwbG"
      },
      "source": [
        "- What are the \"bias\" parameters in a neural network? Why do we need them?\n",
        "What does the @ operator do in Python?"
      ]
    },
    {
      "cell_type": "markdown",
      "metadata": {
        "id": "iRHh--cobwjU"
      },
      "source": [
        "- What does the backward method do?"
      ]
    },
    {
      "cell_type": "markdown",
      "metadata": {
        "id": "z4mtN6wobwpR"
      },
      "source": [
        "- Why do we have to zero the gradients?"
      ]
    },
    {
      "cell_type": "markdown",
      "metadata": {
        "id": "AtOoslRpbcFW"
      },
      "source": [
        "- What information do we have to pass to Learner?"
      ]
    },
    {
      "cell_type": "markdown",
      "metadata": {
        "id": "WfHT1_Jlb7dO"
      },
      "source": [
        "- Show Python or pseudocode for the basic steps of a training loop."
      ]
    },
    {
      "cell_type": "markdown",
      "metadata": {
        "id": "mou2j1ZEb7jC"
      },
      "source": [
        "- What is \"ReLU\"? Draw a plot of it for values from -2 to +2."
      ]
    },
    {
      "cell_type": "markdown",
      "metadata": {
        "id": "jUg85ZGvb7rT"
      },
      "source": [
        "- What is an \"activation function\"?"
      ]
    },
    {
      "cell_type": "markdown",
      "metadata": {
        "id": "U5cqI_xNb76i"
      },
      "source": [
        "- What's the difference between F.relu and nn.ReLU?"
      ]
    },
    {
      "cell_type": "markdown",
      "metadata": {
        "id": "0gfvW2oIxzo7"
      },
      "source": [
        "- The universal approximation theorem shows that any function can be approximated as closely as needed using just one nonlinearity. So why do we normally use more?"
      ]
    }
  ]
}