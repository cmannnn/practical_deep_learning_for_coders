{
  "nbformat": 4,
  "nbformat_minor": 0,
  "metadata": {
    "colab": {
      "name": "fast.ai_ch_questions.ipynb",
      "provenance": [],
      "authorship_tag": "ABX9TyPgeKml2HnFHme254FWv00D",
      "include_colab_link": true
    },
    "kernelspec": {
      "name": "python3",
      "display_name": "Python 3"
    }
  },
  "cells": [
    {
      "cell_type": "markdown",
      "metadata": {
        "id": "view-in-github",
        "colab_type": "text"
      },
      "source": [
        "<a href=\"https://colab.research.google.com/github/cmannnn/practical_deep_learning_for_coders/blob/main/fast_ai_ch_questions.ipynb\" target=\"_parent\"><img src=\"https://colab.research.google.com/assets/colab-badge.svg\" alt=\"Open In Colab\"/></a>"
      ]
    },
    {
      "cell_type": "markdown",
      "metadata": {
        "id": "LKrnKQc92ktr"
      },
      "source": [
        "**Ch 2 Questions**"
      ]
    },
    {
      "cell_type": "markdown",
      "metadata": {
        "id": "qRW82HXZsaQc"
      },
      "source": [
        "1.   Provide an example of where the bear classification model might work poorly in production, due to structural or style differences in the training data.\n",
        "\n",
        "If the quality of the data (resolution) isn't great , the model could be less effective. The model is only as good as the data you provide it.\n"
      ]
    },
    {
      "cell_type": "markdown",
      "metadata": {
        "id": "laKe_ZmYupUT"
      },
      "source": [
        "2. Where do text models currently have a major deficiency?\n",
        "\n",
        "They are good at classification and generating realistic and comprehensive sentences (replies to social media, imitiating authors style, etc.)  but not great at generating correct responses (industry specifc, technical, etc.)"
      ]
    },
    {
      "cell_type": "markdown",
      "metadata": {
        "id": "peEvoLTSvrsz"
      },
      "source": [
        "3. What are possible negative societal implications of text generation models?\n",
        "\n",
        "Possible negative implications could be generating hate speech on social media platforms, or if correct sounding information is provided that actually isn't accurate could be harmful for spreading fake news.\n"
      ]
    },
    {
      "cell_type": "markdown",
      "metadata": {
        "id": "Vh6_3snWwGQN"
      },
      "source": [
        "4. In situations where a model might make mistakes, and those mistakes could be harmful, what is a good alternative to automating a process?\n",
        "\n",
        "Incorporating the model into a system with human user interaction to simplify work, reduce workload, etc. "
      ]
    },
    {
      "cell_type": "markdown",
      "metadata": {
        "id": "PAud7POzxPbi"
      },
      "source": [
        "5. What kind of tabular data is deep learning particularly good at?\n",
        "\n",
        "Good at increasing the variety of data that can be used and columns with high number of discrete choices."
      ]
    },
    {
      "cell_type": "markdown",
      "metadata": {
        "id": "lLb8HW5myMGJ"
      },
      "source": [
        "6. What's a key downside of directly using a deep learning model for recommendation systems?\n",
        "\n",
        "Deep learning models generally take longer to train than random forests or gradient boosting machines. "
      ]
    },
    {
      "cell_type": "markdown",
      "metadata": {
        "id": "fWh3dWZiydgC"
      },
      "source": [
        "7. What are the steps of the Drivetrain Approach?\n",
        "\n",
        "Defining the objective -> Levers (what inputs can we control?) -> Data (what data can we collect?) -> Models (how the levers influence the objective)"
      ]
    },
    {
      "cell_type": "markdown",
      "metadata": {
        "id": "OWcGrIVlzVpO"
      },
      "source": [
        "8. How do the steps of the Drivetrain Approach map to a recommendation system?\n",
        "\n",
        "Objective: to drive additional sales by suprising and delighting the cusomter with recommendations of items they would not have purchased without the recommendation.\n",
        "\n",
        "Lever: the ranking of the recommendations.\n",
        "\n",
        "Data: new data must be collected to generate recommendations that will cause new sales\n",
        "\n",
        "Models: could build 2 models for purchase probabilities, conditional on seeing or not seeing a recommendation"
      ]
    },
    {
      "cell_type": "markdown",
      "metadata": {
        "id": "JCrt_ewM0Uyy"
      },
      "source": [
        "9. Create an image recognition model using data you curate, and deploy it on the web.\n",
        "\n",
        "Deployed! (see Github)"
      ]
    },
    {
      "cell_type": "markdown",
      "metadata": {
        "id": "KFqeYKr12fi2"
      },
      "source": [
        "10. What is DataLoaders?\n",
        "\n",
        "DataLoaders is a simple class that allows you to access your data through train and valid sets created by the class."
      ]
    },
    {
      "cell_type": "markdown",
      "metadata": {
        "id": "u9ut5xfw4XDA"
      },
      "source": [
        "11. What four things do we need to tell fastai to create DataLoaders?\n",
        "\n",
        "The DataLoaders class needs to know: \n",
        "- the type of data that is being passed\n",
        "- how to get the data\n",
        "- how to label the data\n",
        "- how to create the validation set"
      ]
    },
    {
      "cell_type": "markdown",
      "metadata": {
        "id": "yYbH2lU34XNm"
      },
      "source": [
        "12. What does the splitter parameter to DataBlock do?\n",
        "\n",
        "How to split the data, how much to data to leave out for the validation set, sets the seed\n",
        "\n"
      ]
    },
    {
      "cell_type": "markdown",
      "metadata": {
        "id": "un2QKp5z60_k"
      },
      "source": [
        "13. How do we ensure a random split always gives the same validation set?\n",
        "\n",
        "By setting the seed."
      ]
    },
    {
      "cell_type": "markdown",
      "metadata": {
        "id": "4YPfrbYL61QB"
      },
      "source": [
        "14. What letters are often used to signify the independent and dependent variables?\n",
        "\n",
        "x and y"
      ]
    },
    {
      "cell_type": "markdown",
      "metadata": {
        "id": "U2eLmRC461Zr"
      },
      "source": [
        "15. What's the difference between the crop, pad, and squish resize approaches? When might you choose one over the others?\n",
        "\n",
        "The crop resize approach slices the image to fit the desired size. The pad approach adds black pixels to the images that are smaller than the desired size which will allows them to fit the desired size. "
      ]
    },
    {
      "cell_type": "markdown",
      "metadata": {
        "id": "T9lnnThD61kc"
      },
      "source": [
        "16. What is data augmentation? Why is it needed?"
      ]
    },
    {
      "cell_type": "markdown",
      "metadata": {
        "id": "3lZRw22Q4XXR"
      },
      "source": [
        "\n",
        "\n",
        "\n",
        "\n",
        "\n",
        "\n",
        "\n",
        "What is the difference between item_tfms and batch_tfms?\n",
        "\n",
        "What is a confusion matrix?\n",
        "\n",
        "What does export save?\n",
        "\n",
        "What is it called when we use a model for getting predictions, instead of training?\n",
        "\n",
        "What are IPython widgets?\n",
        "\n",
        "When might you want to use CPU for deployment? When might GPU be better?\n",
        "\n",
        "What are the downsides of deploying your app to a server, instead of to a client (or edge) device such as a phone or PC?\n",
        "\n",
        "What are three examples of problems that could occur when rolling out a bear warning system in practice?\n",
        "\n",
        "What is \"out-of-domain data\"?\n",
        "\n",
        "What is \"domain shift\"?\n",
        "\n",
        "What are the three steps in the deployment process?"
      ]
    },
    {
      "cell_type": "markdown",
      "metadata": {
        "id": "dUBSx29ExeiM"
      },
      "source": [
        "**Ch 3 Questions**"
      ]
    },
    {
      "cell_type": "markdown",
      "metadata": {
        "id": "WXzt_zfOxhY-"
      },
      "source": [
        "Does ethics provide a list of \"right answers\"?\n",
        "\n",
        "How can working with people of different backgrounds help when considering ethical questions?\n",
        "\n",
        "What was the role of IBM in Nazi Germany? Why did the company participate as it did? Why did the workers participate?\n",
        "\n",
        "What was the role of the first person jailed in the Volkswagen diesel scandal?\n",
        "\n",
        "What was the problem with a database of suspected gang members maintained by California law enforcement officials?\n",
        "\n",
        "Why did YouTube's recommendation algorithm recommend videos of partially clothed children to pedophiles, even though no employee at Google had programmed this feature?\n",
        "\n",
        "What are the problems with the centrality of metrics?\n",
        "\n",
        "Why did Meetup.com not include gender in its recommendation system for tech meetups?\n",
        "\n",
        "What are the six types of bias in machine learning, according to Suresh and Guttag?\n",
        "\n",
        "Give two examples of historical race bias in the US.\n",
        "Where are most images in ImageNet from?\n",
        "\n",
        "In the paper \"Does Machine Learning Automate Moral Hazard and Error\" why is sinusitis found to be predictive of a stroke?\n",
        "\n",
        "What is representation bias?\n",
        "\n",
        "How are machines and people different, in terms of their use for making decisions?\n",
        "\n",
        "Is disinformation the same as \"fake news\"?\n",
        "\n",
        "Why is disinformation through auto-generated text a particularly significant issue?\n",
        "\n",
        "What are the five ethical lenses described by the Markkula Center?\n",
        "\n",
        "Where is policy an appropriate tool for addressing data ethics issues?\n"
      ]
    },
    {
      "cell_type": "markdown",
      "metadata": {
        "id": "rDLHixLaxtKk"
      },
      "source": [
        "**Ch 4 Questions**"
      ]
    },
    {
      "cell_type": "markdown",
      "metadata": {
        "id": "0gfvW2oIxzo7"
      },
      "source": [
        "How is a grayscale image represented on a computer? How about a color image?\n",
        "\n",
        "How are the files and folders in the MNIST_SAMPLE dataset structured? Why?\n",
        "\n",
        "Explain how the \"pixel similarity\" approach to classifying digits works.\n",
        "What is a list comprehension? Create one now that selects odd numbers from a list and doubles them.\n",
        "\n",
        "What is a \"rank-3 tensor\"?\n",
        "\n",
        "What is the difference between tensor rank and shape? How do you get the rank from the shape?\n",
        "\n",
        "What are RMSE and L1 norm?\n",
        "\n",
        "How can you apply a calculation on thousands of numbers at once, many thousands of times faster than a Python loop?\n",
        "\n",
        "Create a 3×3 tensor or array containing the numbers from 1 to 9. Double it. Select the bottom-right four numbers.\n",
        "\n",
        "What is broadcasting?\n",
        "\n",
        "Are metrics generally calculated using the training set, or the validation set? Why?\n",
        "\n",
        "What is SGD?\n",
        "\n",
        "Why does SGD use mini-batches?\n",
        "\n",
        "What are the seven steps in SGD for machine learning?\n",
        "\n",
        "How do we initialize the weights in a model?\n",
        "\n",
        "What is \"loss\"?\n",
        "\n",
        "Why can't we always use a high learning rate?\n",
        "\n",
        "What is a \"gradient\"?\n",
        "\n",
        "Do you need to know how to calculate gradients yourself?\n",
        "\n",
        "Why can't we use accuracy as a loss function?\n",
        "\n",
        "Draw the sigmoid function. What is special about its shape?\n",
        "\n",
        "What is the difference between a loss function and a metric?\n",
        "\n",
        "What is the function to calculate new weights using a learning rate?\n",
        "\n",
        "What does the DataLoader class do?\n",
        "\n",
        "Write pseudocode showing the basic steps taken in each epoch for SGD.\n",
        "Create a function that, if passed two arguments \\[1,2,3,4]\\ and 'abcd', returns \\[(1, 'a'), (2, 'b'), (3, 'c'), (4, 'd')]\\. What is special about that output data structure?\n",
        "\n",
        "What does view do in PyTorch?\n",
        "\n",
        "What are the \"bias\" parameters in a neural network? Why do we need them?\n",
        "What does the @ operator do in Python?\n",
        "\n",
        "What does the backward method do?\n",
        "\n",
        "Why do we have to zero the gradients?\n",
        "\n",
        "What information do we have to pass to Learner?\n",
        "\n",
        "Show Python or pseudocode for the basic steps of a training loop.\n",
        "\n",
        "What is \"ReLU\"? Draw a plot of it for values from -2 to +2.\n",
        "\n",
        "What is an \"activation function\"?\n",
        "\n",
        "What's the difference between F.relu and nn.ReLU?\n",
        "\n",
        "The universal approximation theorem shows that any function can be approximated as closely as needed using just one nonlinearity. So why do we normally use more?"
      ]
    }
  ]
}