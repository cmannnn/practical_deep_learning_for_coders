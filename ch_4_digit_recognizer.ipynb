{
  "nbformat": 4,
  "nbformat_minor": 0,
  "metadata": {
    "colab": {
      "name": "ch_4_digit_recognizer.ipynb",
      "provenance": [],
      "authorship_tag": "ABX9TyNwPm8E3ETFsECChRZYnlEi",
      "include_colab_link": true
    },
    "kernelspec": {
      "name": "python3",
      "display_name": "Python 3"
    },
    "language_info": {
      "name": "python"
    },
    "accelerator": "GPU"
  },
  "cells": [
    {
      "cell_type": "markdown",
      "metadata": {
        "id": "view-in-github",
        "colab_type": "text"
      },
      "source": [
        "<a href=\"https://colab.research.google.com/github/cmannnn/practical_deep_learning_for_coders/blob/main/ch_4_digit_recognizer.ipynb\" target=\"_parent\"><img src=\"https://colab.research.google.com/assets/colab-badge.svg\" alt=\"Open In Colab\"/></a>"
      ]
    },
    {
      "cell_type": "markdown",
      "metadata": {
        "id": "OgMqFgKfBFRp"
      },
      "source": [
        "#MNIST digit recognizer"
      ]
    },
    {
      "cell_type": "code",
      "metadata": {
        "colab": {
          "base_uri": "https://localhost:8080/"
        },
        "id": "Yk5E00dKBLpc",
        "outputId": "8bc735ec-3552-4987-c695-36174f6572fa"
      },
      "source": [
        "#hide\n",
        "!pip install -Uqq fastbook\n",
        "import fastbook\n",
        "fastbook.setup_book()"
      ],
      "execution_count": 1,
      "outputs": [
        {
          "output_type": "stream",
          "text": [
            "\u001b[K     |████████████████████████████████| 720 kB 4.4 MB/s \n",
            "\u001b[K     |████████████████████████████████| 46 kB 3.2 MB/s \n",
            "\u001b[K     |████████████████████████████████| 1.2 MB 32.3 MB/s \n",
            "\u001b[K     |████████████████████████████████| 186 kB 49.5 MB/s \n",
            "\u001b[K     |████████████████████████████████| 56 kB 3.7 MB/s \n",
            "\u001b[K     |████████████████████████████████| 51 kB 281 kB/s \n",
            "\u001b[?25hMounted at /content/gdrive\n"
          ],
          "name": "stdout"
        }
      ]
    },
    {
      "cell_type": "code",
      "metadata": {
        "id": "lo6RakEdBLzX"
      },
      "source": [
        "#hide\n",
        "from fastai.vision.all import *\n",
        "from fastbook import *\n",
        "\n",
        "matplotlib.rc('image', cmap='Greys')"
      ],
      "execution_count": 2,
      "outputs": []
    },
    {
      "cell_type": "markdown",
      "metadata": {
        "id": "iIAqxmOKCFGv"
      },
      "source": [
        "##Q1"
      ]
    },
    {
      "cell_type": "markdown",
      "metadata": {
        "id": "XejlgwkSCVyu"
      },
      "source": [
        "Create your own implementation of Learner from scratch, based on the training loop shown in this chapter."
      ]
    },
    {
      "cell_type": "code",
      "metadata": {
        "colab": {
          "base_uri": "https://localhost:8080/",
          "height": 37
        },
        "id": "sUEzjm9hCa3k",
        "outputId": "31868886-168f-48a9-ba6e-fb6939dd8cdf"
      },
      "source": [
        "# setting the path to the MNIST dataset\n",
        "path = untar_data(URLs.MNIST_SAMPLE)\n",
        "Path.BASE_PATH = path"
      ],
      "execution_count": 3,
      "outputs": [
        {
          "output_type": "display_data",
          "data": {
            "text/html": [
              "\n",
              "    <div>\n",
              "        <style>\n",
              "            /* Turns off some styling */\n",
              "            progress {\n",
              "                /* gets rid of default border in Firefox and Opera. */\n",
              "                border: none;\n",
              "                /* Needs to be in here for Safari polyfill so background images work as expected. */\n",
              "                background-size: auto;\n",
              "            }\n",
              "            .progress-bar-interrupted, .progress-bar-interrupted::-webkit-progress-bar {\n",
              "                background: #F44336;\n",
              "            }\n",
              "        </style>\n",
              "      <progress value='3219456' class='' max='3214948' style='width:300px; height:20px; vertical-align: middle;'></progress>\n",
              "      100.14% [3219456/3214948 00:01<00:00]\n",
              "    </div>\n",
              "    "
            ],
            "text/plain": [
              "<IPython.core.display.HTML object>"
            ]
          },
          "metadata": {}
        }
      ]
    },
    {
      "cell_type": "code",
      "metadata": {
        "id": "afK3fbCcEGdd"
      },
      "source": [
        "# grabbing just the threes and sevens form the training set to use\n",
        "threes = (path/'train'/'3').ls().sorted()\n",
        "sevens = (path/'train'/'7').ls().sorted()"
      ],
      "execution_count": 4,
      "outputs": []
    },
    {
      "cell_type": "code",
      "metadata": {
        "id": "ecvgBOe9KBkC"
      },
      "source": [
        "# opening the training 3's/7's and changing them to tensors\n",
        "three_tensor = [tensor(Image.open(o)) for o in threes]\n",
        "seven_tensor = [tensor(Image.open(o)) for o in sevens]"
      ],
      "execution_count": 5,
      "outputs": []
    },
    {
      "cell_type": "code",
      "metadata": {
        "id": "w8TU3TyJD9kq"
      },
      "source": [
        "# creating Pytorch tensors of the valid 3s and 7s\n",
        "valid_3_tens = torch.stack([tensor(Image.open(o))\n",
        "                            for o in (path/'valid'/'3').ls()])\n",
        "\n",
        "valid_7_tens = torch.stack([tensor(Image.open(o))\n",
        "                            for o in (path/'valid'/'7').ls()])"
      ],
      "execution_count": 6,
      "outputs": []
    },
    {
      "cell_type": "code",
      "metadata": {
        "id": "nIJ-H0-pHR1E"
      },
      "source": [
        "# stacking three_tensor  normalize the train 3 tensor\n",
        "stacked_threes = torch.stack(three_tensor).float()/255\n",
        "\n",
        "# stack then normalize the train 7 tensor\n",
        "stacked_sevens = torch.stack(seven_tensor).float()/255\n",
        "\n",
        "# normalizing the valid 3 tensor (valid_3_tens already stacked)\n",
        "valid_3_tens = valid_3_tens.float()/255\n",
        "\n",
        "# normalizing the valid 7 tensor (valid_3_tens already stacked)\n",
        "valid_7_tens = valid_7_tens.float()/255"
      ],
      "execution_count": 7,
      "outputs": []
    },
    {
      "cell_type": "code",
      "metadata": {
        "id": "VyGTnvu-JY0N"
      },
      "source": [
        "# changing the training rank 3 tensors to a rank 2 tensor using view\n",
        "train_x = torch.cat([stacked_threes, stacked_sevens]).view(-1, 28*28)\n",
        "\n",
        "# changing the testing rank 3 tensors to a rank 2 tensor using view\n",
        "valid_x = torch.cat([valid_3_tens, valid_7_tens]).view(-1, 28*28)"
      ],
      "execution_count": 8,
      "outputs": []
    },
    {
      "cell_type": "code",
      "metadata": {
        "id": "6GNx8wkQPEaX"
      },
      "source": [
        "# creating labels for our training data as a column vector\n",
        "train_y = tensor([1]*len(threes) + [0]*len(sevens)).unsqueeze(1)\n",
        "\n",
        "# creating labels for our testing data as a column vector\n",
        "valid_y = tensor([1]*len(valid_3_tens) + [0]*len(valid_7_tens)).unsqueeze(1)"
      ],
      "execution_count": 9,
      "outputs": []
    },
    {
      "cell_type": "code",
      "metadata": {
        "id": "F43ncEF3PzdY"
      },
      "source": [
        "# zipping the x, y training dataset\n",
        "dset = list(zip(train_x, train_y))\n",
        "dl = DataLoader(dset, batch_size = 256)\n",
        "\n",
        "# zipping the x, y training dataset\n",
        "valid_dset = list(zip(valid_x, valid_y))\n",
        "valid_dl = DataLoader(valid_dset, batch_size = 256)\n",
        "\n",
        "# loading training DataLoader and testing DataLoader\n",
        "ds = DataLoaders(dl, valid_dl)"
      ],
      "execution_count": 10,
      "outputs": []
    },
    {
      "cell_type": "code",
      "metadata": {
        "id": "U-c6JwifJ5lT"
      },
      "source": [
        "# creating the neural net\n",
        "simple_net = nn.Sequential(\n",
        "    nn.Linear(28*28, 30),\n",
        "    nn.ReLU(),\n",
        "    nn.Linear(30, 1),\n",
        "    nn.Sigmoid()\n",
        ")"
      ],
      "execution_count": 11,
      "outputs": []
    },
    {
      "cell_type": "code",
      "metadata": {
        "id": "hWPh7AYtMbju"
      },
      "source": [
        "# PyTorch binary optimization function? nn.BCELoss"
      ],
      "execution_count": 12,
      "outputs": []
    },
    {
      "cell_type": "code",
      "metadata": {
        "id": "eJR8s0QNp2mQ"
      },
      "source": [
        "device = torch.device(\"cuda\" if torch.cuda.is_available() else \"cpu\")"
      ],
      "execution_count": 13,
      "outputs": []
    },
    {
      "cell_type": "code",
      "metadata": {
        "id": "mwZLZAVnLkvd"
      },
      "source": [
        "# creating new class Learner that takes dataloaders object, the model, optimizer function, and the loss function\n",
        "class Learner():\n",
        "\n",
        " # initializing \n",
        "  def __init__(self,dataloaders,model,opt,loss):\n",
        "    self.training_dl = dataloaders[0]\n",
        "    self.valid_dl = dataloaders[1]\n",
        "    self.model = model\n",
        "    self.opt = opt(self.model.parameters(), lr = 0.01)\n",
        "    self.loss_func = loss\n",
        "\n",
        "# defining batch accuracy that takes the predictions and the y labels \n",
        "  def batch_accuracy(self, preds, yb):\n",
        "    correct = (preds > 0.5) == yb\n",
        "    return correct.float().mean()\n",
        "\n",
        "# defining validate epoch that measures accuracy for each training set batch and rounds to 4 digits\n",
        "  def validate_epoch(self):\n",
        "    accs = [self.batch_accuracy(self.model(xb), yb) for xb, yb in self.valid_dl]\n",
        "    return round(torch.stack(accs).mean().item(), 4)\n",
        "\n",
        "# defining train epoch that takes xb, yb from training set, define the loss func and calculate backpropagation\n",
        "  def train_epoch(self):\n",
        "    for xb, yb in self.training_dl:\n",
        "      preds = self.model(xb)\n",
        "      calculated_loss = self.loss_func(preds, yb * 1.0)\n",
        "      calculated_loss.backward()\n",
        "      self.opt.step()\n",
        "      self.opt.zero_grad()\n",
        " \n",
        "# fits the model for n numbers of epochs and prints them to the screen\n",
        "  def fit(self, n):\n",
        "    for epoch in range(n):\n",
        "      self.train_epoch()\n",
        "      print(self.validate_epoch(), end=' ')"
      ],
      "execution_count": 14,
      "outputs": []
    },
    {
      "cell_type": "code",
      "metadata": {
        "colab": {
          "base_uri": "https://localhost:8080/"
        },
        "id": "iLeFWOQ-xG-c",
        "outputId": "f12a6325-dfff-4dbf-cd73-856e0cfec0b2"
      },
      "source": [
        "# testing the Learner class inserting the combined dataloaders set, the simple_net created, SGD as the optimizer\n",
        "# and the PyTorch binary loss function \n",
        "test = Learner(ds, simple_net, SGD, nn.BCELoss())\n",
        "test.fit(30)"
      ],
      "execution_count": 15,
      "outputs": [
        {
          "output_type": "stream",
          "text": [
            "0.7524 0.8559 0.9145 0.9409 0.955 0.9609 0.9648 0.9643 0.9662 0.9677 0.9677 0.9687 0.9687 0.9691 0.9696 0.9701 0.9711 0.9716 0.9716 0.9711 0.9716 0.9726 0.9735 0.9735 0.9735 0.9735 0.9735 0.974 0.974 0.974 "
          ],
          "name": "stdout"
        }
      ]
    },
    {
      "cell_type": "markdown",
      "metadata": {
        "id": "RT_0i82NCX5o"
      },
      "source": [
        "##Q2"
      ]
    },
    {
      "cell_type": "markdown",
      "metadata": {
        "id": "kPApwtCMBDEU"
      },
      "source": [
        "Complete all the steps in this chapter using the full MNIST datasets (that is, for all digits, not just 3s and 7s). This is a significant project and will take you quite a bit of time to complete! "
      ]
    },
    {
      "cell_type": "code",
      "metadata": {
        "id": "vDR70wk-BL3K",
        "colab": {
          "base_uri": "https://localhost:8080/",
          "height": 37
        },
        "outputId": "d262726f-8064-407c-9ef4-81a8f36f5f71"
      },
      "source": [
        "# setting the path\n",
        "path = untar_data(URLs.MNIST)\n",
        "Path.BASE_PATH = path"
      ],
      "execution_count": 16,
      "outputs": [
        {
          "output_type": "display_data",
          "data": {
            "text/html": [
              "\n",
              "    <div>\n",
              "        <style>\n",
              "            /* Turns off some styling */\n",
              "            progress {\n",
              "                /* gets rid of default border in Firefox and Opera. */\n",
              "                border: none;\n",
              "                /* Needs to be in here for Safari polyfill so background images work as expected. */\n",
              "                background-size: auto;\n",
              "            }\n",
              "            .progress-bar-interrupted, .progress-bar-interrupted::-webkit-progress-bar {\n",
              "                background: #F44336;\n",
              "            }\n",
              "        </style>\n",
              "      <progress value='15687680' class='' max='15683414' style='width:300px; height:20px; vertical-align: middle;'></progress>\n",
              "      100.03% [15687680/15683414 00:04<00:00]\n",
              "    </div>\n",
              "    "
            ],
            "text/plain": [
              "<IPython.core.display.HTML object>"
            ]
          },
          "metadata": {}
        }
      ]
    },
    {
      "cell_type": "code",
      "metadata": {
        "colab": {
          "base_uri": "https://localhost:8080/"
        },
        "id": "hlhuhdmj8Ubu",
        "outputId": "8eb0020a-8140-4c61-9bca-9eb993ea4f25"
      },
      "source": [
        "# checking path\n",
        "path.ls()"
      ],
      "execution_count": 17,
      "outputs": [
        {
          "output_type": "execute_result",
          "data": {
            "text/plain": [
              "(#2) [Path('training'),Path('testing')]"
            ]
          },
          "metadata": {},
          "execution_count": 17
        }
      ]
    },
    {
      "cell_type": "code",
      "metadata": {
        "id": "8WSnkHYs9vsB"
      },
      "source": [
        "# creating a image datablock\n",
        "mnist = DataBlock(blocks = (ImageBlock(cls=PILImageBW), CategoryBlock),\n",
        "                  get_items=get_image_files,\n",
        "                  splitter=GrandparentSplitter(train_name='training', valid_name='testing'),\n",
        "                  get_y=parent_label)"
      ],
      "execution_count": 18,
      "outputs": []
    },
    {
      "cell_type": "code",
      "metadata": {
        "id": "7p0t0137KnN8"
      },
      "source": [
        "# loading data into dls\n",
        "dls = mnist.dataloaders(path, num_workers = 0)"
      ],
      "execution_count": 19,
      "outputs": []
    },
    {
      "cell_type": "code",
      "metadata": {
        "colab": {
          "base_uri": "https://localhost:8080/",
          "height": 210
        },
        "id": "DBVDuJA2LfQB",
        "outputId": "024b2f4f-a352-4970-a7ac-2c9fd17a053f"
      },
      "source": [
        "# printing a couple of numbers\n",
        "dls.show_batch(max_n = 12, figsize = (4,3))"
      ],
      "execution_count": 20,
      "outputs": [
        {
          "output_type": "display_data",
          "data": {
            "image/png": "[encoded data removed]",
            "text/plain": [
              "<Figure size 288x216 with 12 Axes>"
            ]
          },
          "metadata": {
            "needs_background": "light"
          }
        }
      ]
    },
    {
      "cell_type": "code",
      "metadata": {
        "id": "vy-dKL9bMZwg"
      },
      "source": [
        "# creating the second simple_net\n",
        "simple_net = nn.Sequential(\n",
        "    Flatten(),\n",
        "    nn.Linear(28*28, 30),\n",
        "    nn.ReLU(),\n",
        "    nn.Linear(30, 10)\n",
        ")"
      ],
      "execution_count": 21,
      "outputs": []
    },
    {
      "cell_type": "code",
      "metadata": {
        "id": "jDDx8Z-hfoPp"
      },
      "source": [
        "# creating second learner\n",
        "class Learner():\n",
        "  \n",
        "  def __init__(self,dataloaders, model, opt, loss):\n",
        "    self.train_dl = dataloaders[0]\n",
        "    self.valid_dl = dataloaders[1]\n",
        "    self.model = model\n",
        "    self.opt = opt(self.model.parameters(), lr = 0.01)\n",
        "    self.loss = loss\n",
        "\n",
        "  def train_epoch(self):\n",
        "    for xb,yb in self.train_dl:\n",
        "      preds = self.model(xb)\n",
        "      calculated_loss = self.loss(preds, yb.long())\n",
        "      calculated_loss.backward()\n",
        "      self.opt.step()\n",
        "      self.opt.zero_grad()\n",
        "\n",
        "  def batch_accuracy(self, preds, yb):\n",
        "    probs = torch.softmax(preds, dim=1)\n",
        "    winners = probs.argmax(dim=1)\n",
        "    corrects = (winners == yb)\n",
        "    accuracy = corrects.sum().float() / float( yb.size(0) )\n",
        "    return accuracy\n",
        "\n",
        "  def validate_epoch(self):\n",
        "    accs = [self.batch_accuracy(self.model(xb), yb) for xb, yb in self.valid_dl]\n",
        "    return round(torch.stack(accs).mean().item(), 4)\n",
        "\n",
        "  def fit(self, n):\n",
        "    for epoch in range(n):\n",
        "      self.train_epoch()\n",
        "      print(self.validate_epoch(), end=' ')"
      ],
      "execution_count": 26,
      "outputs": []
    },
    {
      "cell_type": "code",
      "metadata": {
        "colab": {
          "base_uri": "https://localhost:8080/"
        },
        "id": "D_wbldYAoIC3",
        "outputId": "928bcedc-d9e3-4c43-b669-cdd2c48394a8"
      },
      "source": [
        "mnist_learner = Learner(dls, simple_net.to(device), SGD, nn.CrossEntropyLoss())\n",
        "mnist_learner.fit(10)"
      ],
      "execution_count": 27,
      "outputs": [
        {
          "output_type": "stream",
          "text": [
            "0.8912 0.902 0.9088 0.9126 0.9156 0.919 0.9214 0.9235 0.9248 0.9271 "
          ],
          "name": "stdout"
        }
      ]
    },
    {
      "cell_type": "code",
      "metadata": {
        "id": "f26np3cap8Eh"
      },
      "source": [
        ""
      ],
      "execution_count": null,
      "outputs": []
    }
  ]
}